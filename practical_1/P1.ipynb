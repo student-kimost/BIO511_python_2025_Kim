{
 "cells": [
  {
   "cell_type": "code",
   "execution_count": 4,
   "id": "d398d4da",
   "metadata": {},
   "outputs": [
    {
     "name": "stdout",
     "output_type": "stream",
     "text": [
      "4 <class 'int'>\n",
      "4.4 <class 'float'>\n",
      "hej <class 'str'>\n",
      "False <class 'bool'>\n",
      "None <class 'NoneType'>\n",
      "[4, 5, 6] <class 'list'>\n",
      "{'one': 1, 'two': 2} <class 'dict'>\n",
      "{'ett', 'tre', 'två'} <class 'set'>\n",
      "(1, 2, 3) <class 'tuple'>\n",
      "range(0, 10) <class 'range'>\n"
     ]
    }
   ],
   "source": [
    "my_int = 4\n",
    "my_float = 4.4\n",
    "my_string = \"hej\"\n",
    "my_bool = False\n",
    "my_nonetype = None\n",
    "my_list = [4,5,6]\n",
    "my_dict = {\"one\":1 , \"two\":2}\n",
    "my_tuple = (1, 2, 3)\n",
    "my_set = {\"ett\", \"två\", \"tre\"}\n",
    "my_range = range(0,10)\n",
    "\n",
    "\n",
    "print(my_int, type(my_int))\n",
    "print(my_float, type(my_float))\n",
    "print(my_string, type(my_string))\n",
    "print(my_bool, type(my_bool))\n",
    "print(my_nonetype, type(my_nonetype))\n",
    "print(my_list, type(my_list))\n",
    "print(my_dict,type(my_dict))\n",
    "print(my_set, type(my_set))\n",
    "print(my_tuple, type(my_tuple))\n",
    "print(my_range, type(my_range))\n",
    "\n",
    "\n"
   ]
  },
  {
   "cell_type": "code",
   "execution_count": 8,
   "id": "2b23ff1d",
   "metadata": {},
   "outputs": [
    {
     "name": "stdout",
     "output_type": "stream",
     "text": [
      "my_string has  3  chars\n"
     ]
    }
   ],
   "source": [
    "my_string = input(\"skriv något: \")\n",
    "\n",
    "if len(my_string) == 0:\n",
    "    print (\"my_string is empty\")\n",
    "else: \n",
    "    print('my_string has ', len(my_string), ' chars')\n",
    "\n"
   ]
  },
  {
   "cell_type": "code",
   "execution_count": null,
   "id": "50509637",
   "metadata": {},
   "outputs": [
    {
     "name": "stdout",
     "output_type": "stream",
     "text": [
      "the integer is positive\n"
     ]
    }
   ],
   "source": [
    "my_int = input(\"Skriv en siffra: \")\n",
    "\n",
    "if my_int > 0:\n",
    "    print(\"the integer is positive\")\n",
    "elif my_int < 0:\n",
    "    print(\"the integer is negative\")\n",
    "else:\n",
    "    print(\"the integer is a zero\")\n",
    "\n"
   ]
  },
  {
   "cell_type": "code",
   "execution_count": null,
   "id": "4aa0390a",
   "metadata": {},
   "outputs": [],
   "source": []
  }
 ],
 "metadata": {
  "kernelspec": {
   "display_name": "base",
   "language": "python",
   "name": "python3"
  },
  "language_info": {
   "codemirror_mode": {
    "name": "ipython",
    "version": 3
   },
   "file_extension": ".py",
   "mimetype": "text/x-python",
   "name": "python",
   "nbconvert_exporter": "python",
   "pygments_lexer": "ipython3",
   "version": "3.13.0"
  }
 },
 "nbformat": 4,
 "nbformat_minor": 5
}
