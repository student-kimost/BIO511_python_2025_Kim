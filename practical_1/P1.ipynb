{
 "cells": [
  {
   "cell_type": "markdown",
   "id": "68353fe6",
   "metadata": {},
   "source": [
    "2.1 Data type usage"
   ]
  },
  {
   "cell_type": "code",
   "execution_count": null,
   "id": "d398d4da",
   "metadata": {},
   "outputs": [],
   "source": [
    "my_int = 4\n",
    "my_float = 4.4\n",
    "my_string = \"hej\"\n",
    "my_bool = False\n",
    "my_nonetype = None\n",
    "my_list = [4,5,6]\n",
    "my_dict = {\"one\":1 , \"two\":2}\n",
    "my_tuple = (1, 2, 3)\n",
    "my_set = {\"ett\", \"två\", \"tre\"}\n",
    "my_range = range(0,10)\n",
    "\n",
    "\n",
    "print(my_int, type(my_int))\n",
    "print(my_float, type(my_float))\n",
    "print(my_string, type(my_string))\n",
    "print(my_bool, type(my_bool))\n",
    "print(my_nonetype, type(my_nonetype))\n",
    "print(my_list, type(my_list))\n",
    "print(my_dict,type(my_dict))\n",
    "print(my_set, type(my_set))\n",
    "print(my_tuple, type(my_tuple))\n",
    "print(my_range, type(my_range))"
   ]
  },
  {
   "cell_type": "markdown",
   "id": "7f47ab1c",
   "metadata": {},
   "source": [
    "2.2.1 If / Elif / Else on your data types\n",
    "- utökad funktionalitet: \n",
    "    användren får skriva in ett eget värde\n",
    "    enkel felhantering för att säkerställa datatyp"
   ]
  },
  {
   "cell_type": "code",
   "execution_count": null,
   "id": "2b23ff1d",
   "metadata": {},
   "outputs": [],
   "source": [
    "while True:\n",
    "    my_string = input(\"skriv något: \")\n",
    "\n",
    "    if type(my_string) is str:\n",
    "        if len(my_string) == 0:\n",
    "            print (\"my_string is empty\")\n",
    "            break\n",
    "        else: \n",
    "            print('my_string has ', len(my_string), ' chars')\n",
    "            break\n",
    "    else:\n",
    "        print(\"det funka ej, försök igen skriv en string data typ\")"
   ]
  },
  {
   "cell_type": "markdown",
   "id": "f3da62c2",
   "metadata": {},
   "source": [
    "2.2.2 Multi-way (If/elif/else clause)\n",
    "- utökad funktionalitet: \n",
    "    användren får skriva in ett eget värde\n",
    "    enkel felhantering för att säkerställa datatyp"
   ]
  },
  {
   "cell_type": "code",
   "execution_count": null,
   "id": "50509637",
   "metadata": {},
   "outputs": [],
   "source": [
    "while True:\n",
    "    my_int = input(\"Skriv en siffra: \")\n",
    "\n",
    "    if type(my_int) is int:\n",
    "        if my_int > 0:\n",
    "            print(\"the integer is positive\")\n",
    "            break\n",
    "        elif my_int < 0:\n",
    "            print(\"the integer is negative\")\n",
    "            break\n",
    "        else:\n",
    "            print(\"the integer is a zero\")\n",
    "            break\n",
    "    else:\n",
    "        print(\"det funka ej, försök skriv bara ett heltal :) \")"
   ]
  },
  {
   "cell_type": "markdown",
   "id": "4f294dd9",
   "metadata": {},
   "source": [
    "2.2.3 Type gate + nested classification (Nested If/elif/else)\n",
    "- utökad funktionalitet: \n",
    "    användren får skriva in ett eget värde\n",
    "    enkel felhantering för att säkerställa datatyp"
   ]
  },
  {
   "cell_type": "code",
   "execution_count": null,
   "id": "4aa0390a",
   "metadata": {},
   "outputs": [],
   "source": [
    "while True:\n",
    "    my_var = input(\"Ange en list'[]', tuple '()' eller en range 'range()':\")\n",
    "\n",
    "    if type(my_var) is (range or list or tuple):\n",
    "\n",
    "        if len(my_var) == 0:\n",
    "            print(\"empty\")\n",
    "            break\n",
    "        elif len(my_var) == 1: \n",
    "            print(\"single\")\n",
    "            break\n",
    "        else:\n",
    "            print(\"multiple items\")\n",
    "            break\n",
    "    else:\n",
    "        print(\"wrong type for this task, try again\")"
   ]
  }
 ],
 "metadata": {
  "kernelspec": {
   "display_name": "base",
   "language": "python",
   "name": "python3"
  },
  "language_info": {
   "codemirror_mode": {
    "name": "ipython",
    "version": 3
   },
   "file_extension": ".py",
   "mimetype": "text/x-python",
   "name": "python",
   "nbconvert_exporter": "python",
   "pygments_lexer": "ipython3",
   "version": "3.13.0"
  }
 },
 "nbformat": 4,
 "nbformat_minor": 5
}
