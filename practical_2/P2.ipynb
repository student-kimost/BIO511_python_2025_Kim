{
 "cells": [
  {
   "cell_type": "markdown",
   "id": "c72f9454",
   "metadata": {},
   "source": [
    "Practical 2: Python loops\n",
    "3.1 simple loop"
   ]
  },
  {
   "cell_type": "code",
   "execution_count": null,
   "id": "411b5d63",
   "metadata": {},
   "outputs": [],
   "source": [
    "my_list = []\n",
    "j = 1\n",
    "\n",
    "for i in range(0,7):\n",
    "    my_list.append(input(f\"write element {i} for your list\"))\n",
    "\n",
    "print(\"this is your list: \")\n",
    "\n",
    "for i in my_list:\n",
    "\n",
    "    if j == 5:\n",
    "        break\n",
    "    else:\n",
    "        print(i, f\"is the {j} element of this list\") \n",
    "        j = j + 1"
   ]
  },
  {
   "cell_type": "markdown",
   "id": "c7f11c94",
   "metadata": {},
   "source": [
    "3.2.1 Nested loops"
   ]
  },
  {
   "cell_type": "code",
   "execution_count": null,
   "id": "f3d3049b",
   "metadata": {},
   "outputs": [],
   "source": [
    "sequences = ['ATCTGAGTCCACACATG', 'GCGTCGTGCGATGTTCACGTTGAT', 'CAGTAGTACTCAGT', 'GGTATGCTAGACGAGATCTAATA']\n",
    "stop_codon = ['TAG', 'TAA', 'TGA']\n",
    "\n",
    "for sequence in sequences:\n",
    "    for codon in stop_codon:\n",
    "        if codon in sequence and 'ATG' in sequence:\n",
    "            print(f'the {sequence} has the ATG codon and the stop codon {codon}')           "
   ]
  },
  {
   "cell_type": "markdown",
   "id": "0f0d5f7d",
   "metadata": {},
   "source": [
    "3.2.2\n",
    "    - define if the start codon comes before the stop codon"
   ]
  },
  {
   "cell_type": "code",
   "execution_count": null,
   "id": "0ab36394",
   "metadata": {},
   "outputs": [],
   "source": [
    "for sequence in sequences:\n",
    "    for codon in stop_codon:\n",
    "        if codon in sequence and 'ATG' in sequence:\n",
    "            print(f'the {sequence} has the ATG codon and the stop codon {codon}')\n",
    "\n",
    "            if sequence.find('ATG') < sequence.find(codon):\n",
    "                print('and the start codon comes before the stop codon')       "
   ]
  },
  {
   "cell_type": "code",
   "execution_count": null,
   "id": "4d5b14d2",
   "metadata": {},
   "outputs": [],
   "source": []
  }
 ],
 "metadata": {
  "kernelspec": {
   "display_name": "base",
   "language": "python",
   "name": "python3"
  },
  "language_info": {
   "codemirror_mode": {
    "name": "ipython",
    "version": 3
   },
   "file_extension": ".py",
   "mimetype": "text/x-python",
   "name": "python",
   "nbconvert_exporter": "python",
   "pygments_lexer": "ipython3",
   "version": "3.13.0"
  }
 },
 "nbformat": 4,
 "nbformat_minor": 5
}
