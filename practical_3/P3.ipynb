{
 "cells": [
  {
   "cell_type": "code",
   "execution_count": null,
   "id": "8c3a4a2c",
   "metadata": {},
   "outputs": [],
   "source": [
    "nums = [3, -1, 7, 2, 9, 0, 4]\n",
    "limit = 4\n",
    "text = \"Room 101: bring 2 apples & 1 banana.\"\n",
    "\n",
    "count = 999\n",
    "summary = \"unset\"\n",
    "result = \"unset\""
   ]
  },
  {
   "cell_type": "markdown",
   "id": "dc552480",
   "metadata": {},
   "source": [
    "Count-above  (uses nums, limit, count)\n",
    "Goal: make a small function called whatever you want and then call(run) it.\n",
    "\n",
    "a) Define a function named count_above that takes two arguments: seq and lim.\n",
    "\n",
    "b) Inside the function, create a LOCAL variable named count starting at 0.\n",
    "\n",
    "c) Loop through seq; for each number strictly greater than lim, increase count by 1.\n",
    "\n",
    "d) Return count.\n",
    "\n",
    "e) Outside the function:\n",
    "   - Print the GLOBAL count.\n",
    "   - Call count_above(nums, limit) and print the returned number.\n",
    "   - Print the GLOBAL count again (notice the global didn’t change)."
   ]
  },
  {
   "cell_type": "code",
   "execution_count": null,
   "id": "3c0ccaba",
   "metadata": {},
   "outputs": [],
   "source": [
    "def count_above(seq, lim):\n",
    "    count = 0\n",
    "    for i in seq:\n",
    "        if i > lim:\n",
    "            count += 1\n",
    "            \n",
    "    return count\n",
    "\n",
    "print(count)\n",
    "print(count_above(nums, limit))\n",
    "print(count)"
   ]
  },
  {
   "cell_type": "markdown",
   "id": "73ae7a53",
   "metadata": {},
   "source": [
    "Text summary  (uses text, summary)\n",
    "Goal: classify characters with an if/elif/else chain and return a clear result.\n",
    "\n",
    "a) Define a function named summarize_text that takes one argument: s.\n",
    "\n",
    "b) Inside the function, create a LOCAL variable named summary that holds a result dictionary\n",
    "   with exactly these keys: \"digits\", \"letters\", \"other\" — each starting at 0.\n",
    "\n",
    "c) Loop through each character in s:\n",
    "   - if the character is a digit, increase \"digits\"\n",
    "   - elif the character is a letter, increase \"letters\"\n",
    "   - else increase \"other\"\n",
    "\n",
    "d) Return the summary dictionary.\n",
    "\n",
    "e) Outside the function:\n",
    "   - Print the GLOBAL summary.\n",
    "   - Call summarize_text(text) and print the returned dictionary.\n",
    "   - Print the GLOBAL summary again."
   ]
  },
  {
   "cell_type": "code",
   "execution_count": null,
   "id": "d323e3e9",
   "metadata": {},
   "outputs": [],
   "source": [
    "def summarize_text (s):\n",
    "    summary = {\"digits\":0, \"letters\":0, \"other\":0}\n",
    "\n",
    "    for char in s:\n",
    "        if char.isdigit():\n",
    "            summary[\"digits\"] += 1\n",
    "        elif char.isalpha():\n",
    "            summary[\"letters\"] += 1\n",
    "        else:\n",
    "            summary[\"other\"] += 1\n",
    "    \n",
    "    return summary\n",
    "\n",
    "print(summary)\n",
    "print(summarize_text(text))\n",
    "print(summary)\n",
    "    \n"
   ]
  },
  {
   "cell_type": "markdown",
   "id": "c8f8a750",
   "metadata": {},
   "source": [
    "C) Aggregate with mode  (uses nums, limit, result)\n",
    "Goal: nested decisions based on a mode string. Return one final value.\n",
    "\n",
    "a) Define a function named aggregate that takes three arguments: seq, mode, threshold.\n",
    "\n",
    "b) Inside the function, create a LOCAL variable named result.\n",
    "Initialize it based on mode:\n",
    "   - if mode is \"sum\": start at 0\n",
    "   - if mode is \"count\": start at 0\n",
    "   - if mode is \"max\": start at None (meaning “no qualifying value yet”)\n",
    "\n",
    "c) Loop through each number n in seq:\n",
    "    - First, ignore n if it is negative (skip it).\n",
    "    - If n is at least threshold, then:\n",
    "        * if mode is \"sum\": add n to result\n",
    "        * elif mode is \"count\": increase result by 1\n",
    "        * else (treat any other mode as \"max\"):\n",
    "            if result is None or n is greater than result, update result to n\n",
    "\n",
    "d) Return the result.\n",
    "\n",
    "e) Outside the function:\n",
    "   - Print the GLOBAL result.\n",
    "   - Call and print each of these:\n",
    "        aggregate(nums, \"sum\", limit)\n",
    "        aggregate(nums, \"count\", limit)\n",
    "        aggregate(nums, \"max\", limit)\n",
    "   - Print the GLOBAL result again."
   ]
  },
  {
   "cell_type": "code",
   "execution_count": null,
   "id": "222aab7e",
   "metadata": {},
   "outputs": [],
   "source": [
    "def aggregate (seq, mode, threshold):\n",
    "    if mode == \"sum\" or mode == \"count\":\n",
    "        result = 0\n",
    "    elif mode == \"max\":\n",
    "        result = None\n",
    "    else:\n",
    "        raise ValueError(\"Allowed values for mode is 'sum', 'count' and 'max'\")\n",
    "    \n",
    "    for n in seq:\n",
    "        if n < 0:\n",
    "            continue\n",
    "        elif n <= threshold:\n",
    "\n",
    "            if mode == \"sum\":\n",
    "                result += n\n",
    "            elif mode == \"count\":\n",
    "                result += 1\n",
    "            else:\n",
    "                if result is None or n > result:\n",
    "                    result = n\n",
    "\n",
    "    return result\n",
    "\n",
    "print(result)\n",
    "print(aggregate(nums, \"sum\", limit))\n",
    "print(aggregate(nums, \"count\", limit))\n",
    "print(aggregate(nums, \"max\", limit))\n",
    "print(result)\n"
   ]
  }
 ],
 "metadata": {
  "kernelspec": {
   "display_name": "base",
   "language": "python",
   "name": "python3"
  },
  "language_info": {
   "codemirror_mode": {
    "name": "ipython",
    "version": 3
   },
   "file_extension": ".py",
   "mimetype": "text/x-python",
   "name": "python",
   "nbconvert_exporter": "python",
   "pygments_lexer": "ipython3",
   "version": "3.13.0"
  }
 },
 "nbformat": 4,
 "nbformat_minor": 5
}
