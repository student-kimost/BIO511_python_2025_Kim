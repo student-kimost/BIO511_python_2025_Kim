{
 "cells": [
  {
   "cell_type": "code",
   "execution_count": null,
   "id": "e8c381a3",
   "metadata": {},
   "outputs": [],
   "source": [
    "#!/usr/bin/env python3\n",
    "from premade_script import codons\n",
    "import argparse\n",
    "import os\n",
    "\n",
    "\n",
    "def existing_file(file_path):\n",
    "    \"\"\"This function checks if the provided file path exists and is a file.\"\"\"\n",
    "    if not os.path.isfile(file_path):\n",
    "        raise argparse.ArgumentTypeError(f\"'{file_path}' is not a valid file\")\n",
    "    return file_path\n",
    "\n",
    "\n",
    "def main():\n",
    "    # First we capture the input arguments from the command line\n",
    "    parser = argparse.ArgumentParser(description=\"Process a string and a folder.\")\n",
    "    parser.add_argument('-s', '--sequence', type=existing_file, required=True, help='Input sequence file')\n",
    "    args = parser.parse_args()\n",
    "    \n",
    "    # We first call the function from the script, and use the input string as an argument\n",
    "    sequence_codons = codons(args.sequence)\n",
    "    \n",
    "    # Here the students should check the output of the function\n",
    "    print(sequence_codons) # REMOVE THIS\n",
    "    \n",
    "    # Here the students will need to call the exercise_function from my_function.py\n",
    "    exercise_output = exercise_function(sequence_codons) # REMOVE THIS\n",
    "    \n",
    "    # And check the output of that function\n",
    "    print(exercise_output) # REMOVE THIS\n",
    "if __name__ == \"__main__\":\n",
    "    main()"
   ]
  }
 ],
 "metadata": {
  "kernelspec": {
   "display_name": "Biopy",
   "language": "python",
   "name": "python3"
  },
  "language_info": {
   "name": "python",
   "version": "3.9.23"
  }
 },
 "nbformat": 4,
 "nbformat_minor": 5
}
