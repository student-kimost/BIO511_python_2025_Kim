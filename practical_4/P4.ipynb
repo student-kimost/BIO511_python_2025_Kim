{
 "cells": [
  {
   "cell_type": "code",
   "execution_count": null,
   "id": "e8c381a3",
   "metadata": {},
   "outputs": [],
   "source": []
  }
 ],
 "metadata": {
  "kernelspec": {
   "display_name": "Biopy",
   "language": "python",
   "name": "python3"
  },
  "language_info": {
   "name": "python",
   "version": "3.9.23"
  }
 },
 "nbformat": 4,
 "nbformat_minor": 5
}
